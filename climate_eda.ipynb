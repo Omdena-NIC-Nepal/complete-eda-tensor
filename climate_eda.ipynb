{
 "cells": [
  {
   "cell_type": "code",
   "execution_count": null,
   "metadata": {},
   "outputs": [],
   "source": [
    "import pandas as pd # type: ignore\n",
    "import matplotlib.pyplot as plt # type: ignore\n",
    "import seaborn as sns # type: ignore\n",
    "from matplotlib.animation import FuncAnimation\n",
    "from IPython.display import HTML"
   ]
  },
  {
   "cell_type": "code",
   "execution_count": null,
   "metadata": {},
   "outputs": [],
   "source": [
    "df = pd.read_csv('data/Climate_Change_Indicators.csv')\n",
    "df.head(5)"
   ]
  },
  {
   "cell_type": "code",
   "execution_count": null,
   "metadata": {},
   "outputs": [],
   "source": [
    "# Check for missing values\n",
    "missing_values = df.isnull().sum()\n",
    "print(\"Missing values in each column:\\n\", missing_values)"
   ]
  },
  {
   "cell_type": "markdown",
   "metadata": {},
   "source": [
    "###### The line of code `missing_values = df.isnull().sum()` is used to identify and count the number of missing (null) values in each column of a pandas DataFrame. \n",
    "###### `df.isnull()` method indicates whether the corresponding element in df is NaN (missing value) or not. True indicates a missing value, and False indicates a non-missing value. `.sum()` method sums up the True values along each column. Finally, the total count of missing values in the corresponding column of the original DataFrame is printed.\n",
    "###### `missing_values` is a `pandas Series` where the index represents the column names and the values represent the count of missing values in each column.\n",
    "\n",
    "###### Since, there are no missing values in our original data, there is no need to handle/clean missing values."
   ]
  },
  {
   "cell_type": "code",
   "execution_count": null,
   "metadata": {},
   "outputs": [],
   "source": [
    "# Check for inconsistent values\n",
    "\n",
    "# Defining the expected ranges or criteria for column 'Year'\n",
    "criteria = {\n",
    "    'Year': (1900, 2023)\n",
    "}\n",
    "\n",
    "# Function to check for inconsistent values\n",
    "def check_inconsistent_values(df, criteria):\n",
    "    inconsistent_values = {}\n",
    "    for column, (min_val, max_val) in criteria.items():\n",
    "        inconsistent_values[column] = df[(df[column] < min_val) | (df[column] > max_val)]\n",
    "    return inconsistent_values"
   ]
  },
  {
   "cell_type": "code",
   "execution_count": null,
   "metadata": {},
   "outputs": [],
   "source": [
    "# Check for inconsistent values\n",
    "inconsistent_values = check_inconsistent_values(df, criteria)\n",
    "\n",
    "# Print inconsistent values for each column\n",
    "for column, values in inconsistent_values.items():\n",
    "    if not values.empty:\n",
    "        print(f\"Inconsistent values in '{column}' column:\\n\", values)\n",
    "    else:\n",
    "        print(f\"No inconsistent values in '{column}' column.\")"
   ]
  },
  {
   "cell_type": "markdown",
   "metadata": {},
   "source": [
    "###### In this code, we have calculated descriptive statistics (Mean, Median, Range, Standard Deviation, Minimum and Maximum) for Arctic Ice Area (million km²) and rounded them to two decimal values."
   ]
  },
  {
   "cell_type": "code",
   "execution_count": null,
   "metadata": {},
   "outputs": [],
   "source": [
    "summary_statistics = df.describe()\n",
    "print(summary_statistics)"
   ]
  },
  {
   "cell_type": "code",
   "execution_count": null,
   "metadata": {},
   "outputs": [],
   "source": [
    "# Aggregate the data by year, computing the average for each climate variable\n",
    "\n",
    "df_grouped_by_year = df.groupby(\"Year\").mean()\n",
    "df_grouped_by_year"
   ]
  },
  {
   "cell_type": "markdown",
   "metadata": {},
   "source": [
    "Documentation -Data Preparation"
   ]
  },
  {
   "cell_type": "markdown",
   "metadata": {},
   "source": [
    "1. Load the Dataset:\n",
    "- The dataset Climate_Change_Indicators.csv is loaded into a Pandas DataFrame using the following command:\n",
    "df = pd.read_csv('data/Climate_Change_Indicators.csv')\n",
    "df.head(5)\n",
    "\n",
    "This reads the CSV file and displays the first five rows for a quick preview.\n",
    "\n",
    "\n",
    "\n",
    "2. Check for Missing Values:\n",
    "- To ensure data quality, we check for missing values in each column:\n",
    "\n",
    "missing_values = df.isnull().sum()\n",
    "print(\"Missing values in each column:\\n\", missing_values)\n",
    "\n",
    "The .isnull() method identifies missing values (NaN).\n",
    ".sum() counts the number of missing values in each column.\n",
    "The output confirms that there are no missing values in the dataset, so no cleaning is required.\n",
    "\n",
    "3. Check for Inconsistencies\n",
    "- Before proceeding with analysis, the dataset is checked for inconsistencies like incorrect data types, duplicate records, and anomalies. If necessary, corrections are applied.\n",
    "\n",
    "\n",
    "4. Aggregate Data by Year\n",
    "- To analyze trends over time, the dataset is grouped by year, and the average of each variable is calculated:\n",
    "\n",
    "df_grouped_by_year = df.groupby(\"Year\").mean()\n",
    "df_grouped_by_year.head()\n",
    "- This groups the dataset by Year and calculates the mean of all numerical variables.\n",
    "\n",
    "Conclusion:\n",
    "- The data is successfully loaded.\n",
    "- No missing values were found.\n",
    "- The Year column was verified for inconsistencies, ensuring only values between 1980 and 2023 exist.\n",
    "- The data was aggregated by year to prepare for further analysis.\n",
    "\n"
   ]
  },
  {
   "cell_type": "markdown",
   "metadata": {},
   "source": [
    "###Calculate descriptive statistics (mean, median, range, std deviation, etc.) for Global Temperature and CO2 Concentration."
   ]
  },
  {
   "cell_type": "code",
   "execution_count": null,
   "metadata": {},
   "outputs": [],
   "source": [
    "# Descripitve statistics for Global Temperature\n",
    "\n",
    "globalTemperature_col = df['Global Average Temperature (°C)']\n",
    "\n",
    "globalTemperature_stats = {\n",
    "    \n",
    "        'Mean':     globalTemperature_col.mean(),\n",
    "        'Median':   globalTemperature_col.median(),\n",
    "        'Minimum':  globalTemperature_col.min(),\n",
    "        'Maximum':  globalTemperature_col.max(),\n",
    "        'Range':   globalTemperature_col.max() - globalTemperature_col.min(),\n",
    "        'Std_dev':   globalTemperature_col.std()\n",
    "    \n",
    "}\n",
    "globalTemperature_stats"
   ]
  },
  {
   "cell_type": "code",
   "execution_count": null,
   "metadata": {},
   "outputs": [],
   "source": [
    "# Descripitve statistics for CO2 Concentration\n",
    "\n",
    "\n",
    "co2_concentration_col = df['CO2 Concentration (ppm)']\n",
    "\n",
    "co2_concentration_stats = {\n",
    "    \n",
    "        'Mean':     co2_concentration_col.mean(),\n",
    "        'Median':   co2_concentration_col.median(),\n",
    "        'Minimum':  co2_concentration_col.min(),\n",
    "        'Maximum':  co2_concentration_col.max(),\n",
    "        'Range':   co2_concentration_col.max() - co2_concentration_col.min(),\n",
    "        'Std_dev':   co2_concentration_col.std()\n",
    "    \n",
    "}\n",
    "co2_concentration_stats"
   ]
  },
  {
   "cell_type": "code",
   "execution_count": null,
   "metadata": {},
   "outputs": [],
   "source": [
    "# Calculate descriptive statistics for 'Sea Level Rise (mm)'\n",
    "sea_level_rise_col = df['Sea Level Rise (mm)']\n",
    "\n",
    "sea_level_rise_stats = {\n",
    "    'Statistics': ['Mean', 'Median', 'Range', 'Standard Deviation', 'Minimum', 'Maximum'],\n",
    "    'Value': [\n",
    "        round(sea_level_rise_col.mean(), 2),\n",
    "        round(sea_level_rise_col.median(), 2),\n",
    "        round(sea_level_rise_col.max() - sea_level_rise_col.min(), 2),\n",
    "        round(sea_level_rise_col.std(), 2),\n",
    "        round(sea_level_rise_col.min(), 2),\n",
    "        round(sea_level_rise_col.max(), 2)\n",
    "    ]\n",
    "}"
   ]
  },
  {
   "cell_type": "code",
   "execution_count": null,
   "metadata": {},
   "outputs": [],
   "source": [
    "sea_level_rise_stats_df = pd.DataFrame(sea_level_rise_stats)\n",
    "sea_level_rise_stats_df"
   ]
  },
  {
   "cell_type": "markdown",
   "metadata": {},
   "source": [
    "###### In this code, we have calculated descriptive statistics (Mean, Median, Range, Standard Deviation, Minimum and Maximum) for Sea Level Rise (mm) and rounded them to two decimal values."
   ]
  },
  {
   "cell_type": "code",
   "execution_count": null,
   "metadata": {},
   "outputs": [],
   "source": [
    "# Calculate descriptive statistics for 'Arctic Ice Area (million km²)'\n",
    "arctic_ice_area_col = df['Arctic Ice Area (million km²)']\n",
    "\n",
    "arctic_ice_area_stats = {\n",
    "    'Statistics': ['Mean', 'Median', 'Range', 'Standard Deviation', 'Minimum', 'Maximum'],\n",
    "    'Value': [\n",
    "        round(arctic_ice_area_col.mean(), 2),\n",
    "        round(arctic_ice_area_col.median(), 2),\n",
    "        round(arctic_ice_area_col.max() - arctic_ice_area_col.min(), 2),\n",
    "        round(arctic_ice_area_col.std(), 2),\n",
    "        round(arctic_ice_area_col.min(), 2),\n",
    "        round(arctic_ice_area_col.max(), 2)\n",
    "    ]\n",
    "}"
   ]
  },
  {
   "cell_type": "code",
   "execution_count": null,
   "metadata": {},
   "outputs": [],
   "source": [
    "arctic_ice_area_stats_df = pd.DataFrame(arctic_ice_area_stats)\n",
    "arctic_ice_area_stats_df"
   ]
  },
  {
   "cell_type": "markdown",
   "metadata": {},
   "source": [
    "###### In this code, we have calculated descriptive statistics (Mean, Median, Range, Standard Deviation, Minimum and Maximum) for Arctic Ice Area (million km²) and rounded them to two decimal values."
   ]
  },
  {
   "cell_type": "code",
   "execution_count": null,
   "metadata": {},
   "outputs": [],
   "source": [
    "#creating histogarm and boxplots (Global Average Temperature (°C) and CO2 Concentration (ppm))\n",
    "\n",
    "#Histogarm for Global Average Temperature (°C)\n",
    "plt.Figure(figsize=(10, 6))\n",
    "plt.hist(df_grouped_by_year['Global Average Temperature (°C)'], bins=20, color='blue', alpha=0.7)\n",
    "plt.title('Distribution of Global Average Temperature')\n",
    "plt.xlabel('Temperature (°C)')\n",
    "plt.ylabel('Frequency') # ---> frequency of the temperature means like specific range ma kati choti vayo tw\n",
    "plt.show()\n"
   ]
  },
  {
   "cell_type": "code",
   "execution_count": null,
   "metadata": {},
   "outputs": [],
   "source": [
    "#boxplot for Global Average Temperature (°C)\n",
    "plt.Figure(figsize=(10, 6))\n",
    "sns.boxplot(df_grouped_by_year['Global Average Temperature (°C)'])\n",
    "plt.title('Boxplot of Global Average Temperature')\n",
    "plt.xlabel('Temperature (°C)')\n",
    "plt.show()"
   ]
  },
  {
   "cell_type": "code",
   "execution_count": null,
   "metadata": {},
   "outputs": [],
   "source": [
    "#Histogarm for CO2 Concentration (ppm)\n",
    "plt.Figure(figsize=(10, 6))\n",
    "plt.hist(df_grouped_by_year['CO2 Concentration (ppm)'], bins=20, color='red', alpha=0.7)\n",
    "plt.title('Distribution of CO2 Concentration (ppm)')\n",
    "plt.xlabel('CO2 Concentration (ppm)')\n",
    "plt.ylabel('Frequency')\n",
    "plt.show()"
   ]
  },
  {
   "cell_type": "code",
   "execution_count": null,
   "metadata": {},
   "outputs": [],
   "source": [
    "#boxplot for CO2 Concentration (ppm)\n",
    "plt.Figure(figsize=(10, 6))\n",
    "sns.boxplot(df_grouped_by_year['CO2 Concentration (ppm)'],color='red')\n",
    "plt.title('Boxplot of CO2 Concentration (ppm)')\n",
    "plt.xlabel('CO2 Concentration (ppm)')\n",
    "plt.show()"
   ]
  },
  {
   "cell_type": "markdown",
   "metadata": {},
   "source": [
    "#### Create appropriate visualizations (histograms and box plots) for Sea Level Rise and Arctic Ice Area.\n"
   ]
  },
  {
   "cell_type": "code",
   "execution_count": null,
   "metadata": {},
   "outputs": [],
   "source": [
    "#  Histogram Plot for Sea Level Rise over the years\n",
    "\n",
    "plt.figure(figsize=(8,5))\n",
    "sns.histplot(df_grouped_by_year['Sea Level Rise (mm)'], bins=50, kde=True, color='blue')\n",
    "plt.xlabel('Sea Level Rise (mm)')\n",
    "plt.ylabel('Frequency')\n",
    "plt.title('Sea Level Rise Over the Years')\n",
    "plt.grid(axis='y', linestyle='--', alpha=0.7)\n",
    "plt.show()"
   ]
  },
  {
   "cell_type": "code",
   "execution_count": null,
   "metadata": {},
   "outputs": [],
   "source": [
    "#  Histogram Plot for Arctic Ice Area over the years\n",
    "plt.figure(figsize=(8,5))\n",
    "sns.histplot(df_grouped_by_year['Arctic Ice Area (million km²)'], bins=30, kde=True, color='green')\n",
    "plt.xlabel('Arctic Ice Area (million km²)')  # Corrected label\n",
    "plt.ylabel('Frequency')  # Corrected label\n",
    "plt.title('Arctic Ice Area Over the Years')\n",
    "plt.grid(axis='y', linestyle='--', alpha=0.7)\n",
    "plt.show()"
   ]
  },
  {
   "cell_type": "code",
   "execution_count": null,
   "metadata": {},
   "outputs": [],
   "source": [
    "# Created a new column for decade\n",
    "df_grouped_by_year['Decade'] = (df_grouped_by_year.index // 10) * 10\n",
    "\n",
    "#Created a new DataFrame for the boxplot\n",
    "df_for_sea_level_box_plot = df_grouped_by_year[['Sea Level Rise (mm)', 'Decade']].reset_index()\n",
    "df_for_sea_level_box_plot.head()"
   ]
  },
  {
   "cell_type": "code",
   "execution_count": null,
   "metadata": {},
   "outputs": [],
   "source": [
    "plt.figure(figsize=(10, 6))\n",
    "sns.boxplot(x='Decade', y='Sea Level Rise (mm)', data=df_for_sea_level_box_plot, hue='Decade', dodge=True)\n",
    "\n",
    "# Customizing the plot\n",
    "plt.title('Boxplot of Sea Level Rise by Decade')\n",
    "plt.xlabel('Decade')\n",
    "plt.ylabel('Sea Level Rise (mm)')\n",
    "\n",
    "# Placing the legend outside the box\n",
    "plt.legend(title='20 Years Interval', loc='upper left', bbox_to_anchor=(1, 1))\n",
    "\n",
    "plt.tight_layout()\n",
    "plt.show()"
   ]
  },
  {
   "cell_type": "code",
   "execution_count": null,
   "metadata": {},
   "outputs": [],
   "source": [
    "df_for_artic_ice_box_plot = df_grouped_by_year[['Arctic Ice Area (million km²)','Decade']].reset_index()\n",
    "df_for_artic_ice_box_plot.head()"
   ]
  },
  {
   "cell_type": "code",
   "execution_count": null,
   "metadata": {},
   "outputs": [],
   "source": [
    "plt.figure(figsize=(10, 6))\n",
    "sns.boxplot(x='Decade', y='Arctic Ice Area (million km²)', data=df_for_artic_ice_box_plot, hue='Decade', dodge=True)\n",
    "\n",
    "plt.title('Boxplot of Arctic Ice Area (million km²) by Decade')\n",
    "plt.xlabel('Decade')\n",
    "plt.ylabel('Arctic Ice Area (million km²)')\n",
    "\n",
    "plt.legend(title='20 Years Interval', loc='upper left', bbox_to_anchor=(1, 1))\n",
    "\n",
    "plt.tight_layout() \n",
    "plt.show()"
   ]
  },
  {
   "cell_type": "markdown",
   "metadata": {},
   "source": [
    "Univariate Analysis(Time Series plots)"
   ]
  },
  {
   "cell_type": "code",
   "execution_count": null,
   "metadata": {},
   "outputs": [],
   "source": [
    "# Set Seaborn style\n",
    "sns.set_style(\"whitegrid\")\n",
    "\n",
    "# Create subplots\n",
    "fig, axes = plt.subplots(2, 2, figsize=(14, 10))\n",
    "\n",
    "# Global Temperature\n",
    "sns.lineplot(x=df_grouped_by_year.index, y=df_grouped_by_year[\"Global Average Temperature (°C)\"], ax=axes[0, 0], color=\"r\")\n",
    "axes[0, 0].set_title(\"Global Temperature Over Time\")\n",
    "axes[0, 0].set_xlabel(\"Year\")\n",
    "axes[0, 0].set_ylabel(\"Temperature Anomaly (°C)\")\n",
    "\n",
    "# CO2 Concentration\n",
    "sns.lineplot(x=df_grouped_by_year.index, y=df_grouped_by_year[\"CO2 Concentration (ppm)\"], ax=axes[0, 1], color=\"g\")\n",
    "axes[0, 1].set_title(\"CO2 Concentration Over Time\")\n",
    "axes[0, 1].set_xlabel(\"Year\")\n",
    "axes[0, 1].set_ylabel(\"CO2 Concentration (ppm)\")\n",
    "\n",
    "# Sea Level Rise\n",
    "sns.lineplot(x=df_grouped_by_year.index, y=df_grouped_by_year[\"Sea Level Rise (mm)\"], ax=axes[1, 0], color=\"b\")\n",
    "axes[1, 0].set_title(\"Sea Level Rise Over Time\")\n",
    "axes[1, 0].set_xlabel(\"Year\")\n",
    "axes[1, 0].set_ylabel(\"Sea Level Rise (mm)\")\n",
    "\n",
    "# Arctic Ice Area\n",
    "sns.lineplot(x=df_grouped_by_year.index, y=df_grouped_by_year[\"Arctic Ice Area (million km²)\"], ax=axes[1, 1], color=\"purple\")\n",
    "axes[1, 1].set_title(\"Arctic Ice Area Over Time\")\n",
    "axes[1, 1].set_xlabel(\"Year\")\n",
    "axes[1, 1].set_ylabel(\"Arctic Ice Area (million km²)\")\n",
    "\n",
    "# Adjust layout\n",
    "plt.tight_layout()\n",
    "plt.show()"
   ]
  },
  {
   "cell_type": "markdown",
   "metadata": {},
   "source": [
    "## Document - Identification and discussion on trends, outliers and distribution for each climate's data.\n",
    "\n",
    "1. Global Average Temperature\n",
    "    \n",
    "    - Trends:\n",
    "        - The mean temperature is 14.5°C, with a median of 14.5°C, suggesting that the data is fairly balanced around the central value.\n",
    "        - The maximum (16.0°C) and minimum (13.0°C) values indicate a small range of 3.0°C, suggesting that\n",
    "        global temperature changes over the recorded period are relatively stable.\n",
    "        - Based on these statistics, there doesn't appear to be a strong trend of increasing or decreasing global temperature over the period; it remains relatively stable. \n",
    "\n",
    "    - Outliers:\n",
    "        - The minimum and maximum values (13.0°C and 16.0°C) are within a reasonable range, considering the standard deviation of 0.87°C.\n",
    "        - There do not seem to be any extreme outliers, as all values fall within a narrow range and are close to the mean. No extreme deviations from the expected values are noted.\n",
    "    \n",
    "    - Distributions:\n",
    "       - The mean and median values being nearly equal suggest a normal or symmetric distribution, with most temperature values clustered around the central mean. \n",
    "        - The low standard deviation (0.87°C) further supports the idea of a narrow, stable distribution of temperatures.\n",
    "          \n",
    "\n",
    "\n",
    "2. CO2 Concentration\n",
    "\n",
    "    - Trends:\n",
    "        - The mean CO2 concentration is 350.03 ppm, and the median is 350.07 ppm, showing a fairly balanced distribution around this value.\n",
    "        - With a range of 140.0 ppm (from 280.0 ppm to 420.0 ppm), there appears to be greater variability in CO2 levels compared to the global temperature.\n",
    "        - The increasing variability in CO2 levels could suggest changes in emissions or other environmental factors over time. \n",
    "\n",
    "    - Outliers:\n",
    "        - The minimum value is 280.0 ppm and the maximum is 420.0 ppm, with a standard deviation of 40.42 ppm.\n",
    "        - Given the range of CO2 concentration (140.0 ppm), the lower values around 280.0 ppm and higher values around 420.0 ppm could be seen as potential outliers. The large range and relatively high standard deviation indicate that some data points may deviate significantly from the mean.\n",
    "\n",
    "    - Distributions:\n",
    "        -  CO2 concentration values show a wider distribution, as indicated by the large range (140.0 ppm) and a standard deviation of 40.42 ppm. \n",
    "        - The mean and median being close suggests a roughly normal distribution, but the broader spread indicates greater variability in CO2 levels compared to temperature.\n",
    "\n",
    "\n",
    "3. Arctic Ice Area:\n",
    "\n",
    "    - Trends: \n",
    "        - There is a declining trend in Arctic Ice Area over the decades, indicating significant environmental changes due to climate change.\n",
    "        - The reduction in ice coverage suggests that rising global temperatures are contributing to accelerated melting of Arctic ice, leading to more pronounced seasonal fluctuations.\n",
    "        - Continuous monitoring reveals that recent decades have experienced faster rates of ice loss, emphasizing the urgent need for climate action to mitigate further impacts.\n",
    "\n",
    "    - Outliers:\n",
    "        - Outliers in Arctic Ice Area measurements may signify years with extreme deviations in ice coverage, often attributed to major climatic anomalies or unusual weather patterns.\n",
    "        - For instance, a sharp decline in Arctic ice extent during a particular year may be linked to an intense heatwave or an El Niño event, which disrupts conventional climate cycles and accelerates ice melt.\n",
    "        - Thorough analysis of these outliers is crucial for enhancing our understanding of Arctic ice variability and refining predictive models for assessing climate change impacts.\n",
    "\n",
    "    - Distributions:\n",
    "        - The histogram for Arctic Ice Area likely shows a negatively skewed distribution, indicating that most years have lower ice coverage, with fewer years experiencing higher values.\n",
    "        - This skewness suggests a general decline in ice area, with occasional spikes representing years with higher ice coverage due to specific weather patterns or anomalies.\n",
    "        - Understanding this distribution is important for assessing the long-term trends and impacts of climate change on Arctic ecosystems.\n",
    "\n",
    "\n",
    "\n",
    "4. Sea Level Rise:\n",
    "\n",
    "    - Trends:\n",
    "        - An upward trend in Sea Level Rise measurements is observed over the decades, correlating with melting polar ice caps and thermal expansion of seawater.\n",
    "        - This increase in sea levels suggests a persistent threat to coastal communities and ecosystems, as higher levels can lead to more frequent and severe flooding events.\n",
    "        - Recent data indicate that the rate of sea level rise has accelerated in the last few decades, highlighting the urgent need for adaptive strategies to protect vulnerable areas.\n",
    "\n",
    "    - Outliers:\n",
    "        - Outliers in sea level data may indicate years with significantly higher or lower sea levels, often due to major climatic events such as severe storms or shifts in oceanic currents.\n",
    "        - For example, anomalously high sea levels may result from storm surges caused by hurricanes, while lower-than-average levels could be linked to prolonged droughts that reduce freshwater inflow.\n",
    "        - Identifying and analyzing these outliers is essential for understanding the intricate factors influencing sea level variations and developing robust coastal resilience strategies.\n",
    " \n",
    "\n",
    "    - Distributions:\n",
    "        - The histogram for Sea Level Rise may exhibit a right-skewed distribution, indicating a concentration of lower measurements with a tail extending toward higher values.\n",
    "        - This distribution suggests that while most years experience relatively stable sea levels, there are significant instances of higher sea levels that could lead to flooding and other environmental concerns.\n",
    "        - Analyzing the distribution of sea level rise measurements is essential for predicting future changes and planning for potential risks to coastal communities.\n",
    "\n"
   ]
  },
  {
   "cell_type": "markdown",
   "metadata": {},
   "source": [
    "## 3. Bivariate Analysis\n",
    "\n",
    "Explore relationships between pairs of climate variables.\n"
   ]
  },
  {
   "cell_type": "code",
   "execution_count": null,
   "metadata": {},
   "outputs": [],
   "source": [
    "#Data for plotting\n",
    "\n",
    "meanGlobaltemp = df_grouped_by_year['Global Average Temperature (°C)']\n",
    "meanCo2_concentration = df_grouped_by_year['CO2 Concentration (ppm)']\n",
    "meanSea_level_rise = df_grouped_by_year['Sea Level Rise (mm)']  \n",
    "meanArtic_ice_area = df_grouped_by_year['Arctic Ice Area (million km²)']\n",
    "years = df_grouped_by_year.index"
   ]
  },
  {
   "cell_type": "code",
   "execution_count": null,
   "metadata": {},
   "outputs": [],
   "source": [
    "# Scatter plot exploring relationship between Global Temperature and CO2 Concentration\n",
    "\n",
    "#Using MATPLOTLIB\n",
    "\n",
    "\n",
    "plt.figure(figsize=(8, 6))\n",
    "\n",
    "scatter = plt.scatter(\n",
    "    meanGlobaltemp, \n",
    "    meanCo2_concentration, \n",
    "    c=years,\n",
    "    cmap='plasma',\n",
    "    )\n",
    "\n",
    "# labels and title\n",
    "plt.xlabel('Mean of Global Average Temperature (°C)')\n",
    "plt.ylabel('Mean of CO2 Concentration (ppm)')\n",
    "plt.title('Scatter Plot of Global Avg Temp vs CO2 Concentration ')\n",
    "\n",
    "#colorbar to show the year corresponding to each color\n",
    "cbar = plt.colorbar(scatter)\n",
    "cbar.set_label('Year(20-year interval) ')\n",
    "\n",
    "# Show the plot\n",
    "plt.show()"
   ]
  },
  {
   "cell_type": "code",
   "execution_count": null,
   "metadata": {},
   "outputs": [],
   "source": [
    "# Scatter plot exploring relationship between CO2 concentration and sea level rise\n",
    "\n",
    "#Using MATPLOTLIB\n",
    "\n",
    "\n",
    "plt.figure(figsize=(8, 6))\n",
    "\n",
    "scatter2 = plt.scatter(\n",
    "    meanCo2_concentration, \n",
    "    meanSea_level_rise, \n",
    "    c=years,\n",
    "    cmap='magma',\n",
    "    )\n",
    "\n",
    "# labels and title\n",
    "plt.xlabel('Mean of CO2 Concentration (ppm)')\n",
    "plt.ylabel('Mean of Sea Level Rise (mm)\t')\n",
    "plt.title('Scatter Plot of CO2 Concentration vs Sea level rise')\n",
    "\n",
    "#colorbar to show the year corresponding to each color\n",
    "cbar = plt.colorbar(scatter2)\n",
    "cbar.set_label('Year(20-year interval) ')\n",
    "\n",
    "# Show the plot\n",
    "plt.show()"
   ]
  },
  {
   "cell_type": "code",
   "execution_count": null,
   "metadata": {},
   "outputs": [],
   "source": [
    "# Scatter plot exploring relationship between CO2 concentration and Arctic ice area\n",
    "\n",
    "\n",
    "#Using SEABORN\n",
    "\n",
    "\n",
    "plt.figure(figsize=(8, 6))\n",
    "scatter = sns.scatterplot(\n",
    "    data= df_grouped_by_year,\n",
    "    x= meanCo2_concentration ,\n",
    "    y = meanArtic_ice_area  ,\n",
    "    hue= years,           \n",
    "    palette='viridis',   \n",
    "    size='Year',         \n",
    ")\n",
    "\n",
    "# Add labels and title\n",
    "plt.xlabel('Mean of CO2 Concentration (ppm)')\n",
    "plt.ylabel('Mean of Arctic Ice Area (million km²)')\n",
    "plt.title('Scatter Plot of CO2 Concentration vs Artic Ice area')\n",
    "\n",
    "# Show the legend with years\n",
    "plt.legend(title='Year (25 years interval)', bbox_to_anchor=(1.05, 1), loc='upper left')\n",
    "\n",
    "\n",
    "\n",
    "# Show the plot\n",
    "plt.show()"
   ]
  },
  {
   "cell_type": "code",
   "execution_count": null,
   "metadata": {},
   "outputs": [],
   "source": [
    "import warnings\n",
    "\n",
    "warnings.filterwarnings(\"ignore\", category=UserWarning, module=\"IPython.core.pylabtools\")"
   ]
  },
  {
   "cell_type": "code",
   "execution_count": null,
   "metadata": {},
   "outputs": [],
   "source": [
    "# Scatter plot exploring relationship between Global Temperatures vs Sea Level Rise\n",
    "\n",
    "plt.figure(figsize=(8, 6))\n",
    "scatter = sns.scatterplot(\n",
    "    data= df_grouped_by_year,\n",
    "    x= meanGlobaltemp ,\n",
    "    y = meanSea_level_rise  ,\n",
    "    hue= years,           \n",
    "    palette='Greens',   \n",
    "    size='Year',         \n",
    ")\n",
    "\n",
    "# Add labels and title\n",
    "plt.xlabel('Mean of Global Average Temperature(°C)')\n",
    "plt.ylabel('Mean of Sea Level Rise (mm)')\n",
    "plt.title('Scatter Plot of Global Average Temperature vs Sea Level Rise')\n",
    "\n",
    "# Show the legend with years\n",
    "plt.legend(title='Year (25 years interval)', bbox_to_anchor=(1.05, 1), loc='upper left')\n",
    "\n",
    "# Show the plot\n",
    "plt.show()"
   ]
  },
  {
   "cell_type": "code",
   "execution_count": null,
   "metadata": {},
   "outputs": [],
   "source": [
    "# Scatter plot exploring relationship between Sea Level Rise vs Arctic Ice Area\n",
    "\n",
    "plt.figure(figsize=(8, 6))\n",
    "scatter = sns.scatterplot(\n",
    "    data= df_grouped_by_year,\n",
    "    x= meanSea_level_rise ,\n",
    "    y = meanArtic_ice_area  ,\n",
    "    hue= years,           \n",
    "    palette='viridis',   \n",
    "    size='Year',         \n",
    ")\n",
    "\n",
    "# Add labels and title\n",
    "plt.xlabel('Mean of Sea Level Rise (mm)')\n",
    "plt.ylabel('Mean of Arctic Ice Area (million km²)')\n",
    "plt.title('Scatter Plot of Sea Level Rise vs Arctic Ice Area')\n",
    "\n",
    "# Show the legend with years\n",
    "plt.legend(title='Year (25 years interval)', bbox_to_anchor=(1.05, 1), loc='upper left')\n",
    "\n",
    "# Show the plot\n",
    "plt.show()"
   ]
  },
  {
   "cell_type": "code",
   "execution_count": null,
   "metadata": {},
   "outputs": [],
   "source": [
    "# Scatter plot exploring relationship between Global Temperatures vs Arctic Ice Area\n",
    "\n",
    "plt.figure(figsize=(8, 6))\n",
    "scatter = sns.scatterplot(\n",
    "    data= df_grouped_by_year,\n",
    "    x= meanGlobaltemp ,\n",
    "    y = meanArtic_ice_area  ,\n",
    "    hue= years,           \n",
    "    palette='Purples',\n",
    "    size='Year',         \n",
    ")\n",
    "\n",
    "# Add labels and title\n",
    "plt.xlabel('Mean of Global Average Temperature(°C)')\n",
    "plt.ylabel('Mean of Arctic Ice Area (million km²)')\n",
    "plt.title('Scatter Plot of Global Average Temperature vs Arctic Ice Area')\n",
    "\n",
    "# Show the legend with years\n",
    "plt.legend(title='Year (25 years interval)', bbox_to_anchor=(1.05, 1), loc='upper left')\n",
    "\n",
    "# Show the plot\n",
    "plt.show()"
   ]
  },
  {
   "cell_type": "code",
   "execution_count": null,
   "metadata": {},
   "outputs": [],
   "source": [
    "# Create a figure with subplots\n",
    "fig, axes = plt.subplots(2, 3, figsize=(18, 12))\n",
    "fig.suptitle('Climate Change Relationships', fontsize=16)\n",
    "\n",
    "# Define subplot positions\n",
    "plots = [\n",
    "    (axes[0, 0], meanCo2_concentration, meanSea_level_rise, 'magma', 'CO2 Concentration (ppm)', 'Sea Level Rise (mm)', 'CO2 vs Sea Level Rise'),\n",
    "    (axes[0, 1], meanGlobaltemp, meanCo2_concentration, 'plasma', 'Global Avg Temp (°C)', 'CO2 Concentration (ppm)', 'Global Temp vs CO2'),\n",
    "    (axes[0, 2], meanCo2_concentration, meanArtic_ice_area, 'viridis', 'CO2 Concentration (ppm)', 'Arctic Ice Area (million km²)', 'CO2 vs Arctic Ice'),\n",
    "    (axes[1, 0], meanGlobaltemp, meanSea_level_rise, 'Greens', 'Global Avg Temp (°C)', 'Sea Level Rise (mm)', 'Global Temp vs Sea Level'),\n",
    "    (axes[1, 1], meanSea_level_rise, meanArtic_ice_area, 'viridis', 'Sea Level Rise (mm)', 'Arctic Ice Area (million km²)', 'Sea Level vs Arctic Ice'),\n",
    "    (axes[1, 2], meanGlobaltemp, meanArtic_ice_area, 'Purples', 'Global Avg Temp (°C)', 'Arctic Ice Area (million km²)', 'Global Temp vs Arctic Ice')\n",
    "]\n",
    "\n",
    "# Loop through and create scatter plots\n",
    "for ax, x, y, cmap, xlabel, ylabel, title in plots:\n",
    "    scatter = ax.scatter(x, y, c=years, cmap=cmap, alpha=0.7)\n",
    "    ax.set_xlabel(xlabel)\n",
    "    ax.set_ylabel(ylabel)\n",
    "    ax.set_title(title)\n",
    "    cbar = fig.colorbar(scatter, ax=ax)\n",
    "    cbar.set_label('Year')\n",
    "\n",
    "# Adjust layout\n",
    "plt.tight_layout(rect=[0, 0, 1, 0.96])\n",
    "plt.show()"
   ]
  },
  {
   "cell_type": "code",
   "execution_count": null,
   "metadata": {},
   "outputs": [],
   "source": [
    "\n",
    "# Create a figure with subplots\n",
    "fig, axes = plt.subplots(2, 3, figsize=(18, 12))\n",
    "fig.suptitle('Climate Change Relationships', fontsize=16)\n",
    "\n",
    "# Define subplot positions\n",
    "plots = [\n",
    "    (axes[0, 0], meanCo2_concentration, meanSea_level_rise, 'magma', 'CO2 Concentration (ppm)', 'Sea Level Rise (mm)', 'CO2 vs Sea Level Rise'),\n",
    "    (axes[0, 1], meanGlobaltemp, meanCo2_concentration, 'plasma', 'Global Avg Temp (°C)', 'CO2 Concentration (ppm)', 'Global Temp vs CO2'),\n",
    "    (axes[0, 2], meanCo2_concentration, meanArtic_ice_area, 'viridis', 'CO2 Concentration (ppm)', 'Arctic Ice Area (million km²)', 'CO2 vs Arctic Ice'),\n",
    "    (axes[1, 0], meanGlobaltemp, meanSea_level_rise, 'Greens', 'Global Avg Temp (°C)', 'Sea Level Rise (mm)', 'Global Temp vs Sea Level'),\n",
    "    (axes[1, 1], meanSea_level_rise, meanArtic_ice_area, 'viridis', 'Sea Level Rise (mm)', 'Arctic Ice Area (million km²)', 'Sea Level vs Arctic Ice'),\n",
    "    (axes[1, 2], meanGlobaltemp, meanArtic_ice_area, 'Purples', 'Global Avg Temp (°C)', 'Arctic Ice Area (million km²)', 'Global Temp vs Arctic Ice')\n",
    "]\n",
    "\n",
    "# Loop through and create scatter plots\n",
    "for ax, x, y, cmap, xlabel, ylabel, title in plots:\n",
    "    scatter = sns.scatterplot(x=x, y=y, hue=years, palette=cmap, ax=ax, alpha=0.7)\n",
    "    ax.set_xlabel(xlabel)\n",
    "    ax.set_ylabel(ylabel)\n",
    "    ax.set_title(title)\n",
    "\n",
    "handles, labels = axes[0, 0].get_legend_handles_labels()\n",
    "\n",
    "# Adjust layout\n",
    "plt.tight_layout(rect=[0, 0, 1, 0.96])\n",
    "plt.show()"
   ]
  },
  {
   "cell_type": "code",
   "execution_count": null,
   "metadata": {},
   "outputs": [],
   "source": [
    "corelation_matrix = df.corr()\n",
    "corelation_matrix"
   ]
  },
  {
   "cell_type": "code",
   "execution_count": null,
   "metadata": {},
   "outputs": [],
   "source": [
    "# Plotting Correlation Matrix Heatmap\n",
    "\n",
    "plt.figure(figsize=(8, 6))\n",
    "sns.heatmap(corelation_matrix, annot=True, cmap='coolwarm', fmt=\".6f\", linewidths=0.5)\n",
    "plt.title(\"Correlation Matrix Heatmap\")\n",
    "plt.show()\n"
   ]
  },
  {
   "cell_type": "markdown",
   "metadata": {},
   "source": [
    "Create Pair Plot - Analyze how variables change in relation to each other over time"
   ]
  },
  {
   "cell_type": "code",
   "execution_count": null,
   "metadata": {},
   "outputs": [],
   "source": [
    "# Selecting relevant numerical columns for the pair plot\n",
    "pairplot_data = df_grouped_by_year[\n",
    "    ['Global Average Temperature (°C)', 'CO2 Concentration (ppm)', \n",
    "     'Sea Level Rise (mm)', 'Arctic Ice Area (million km²)']\n",
    "]\n",
    "\n",
    "# Adding the year column for hue (categorical color mapping)\n",
    "pairplot_data['Year'] = df_grouped_by_year.index  \n",
    "\n",
    "# Creating the pair plot\n",
    "sns.pairplot(\n",
    "    pairplot_data, \n",
    "    hue='Year',  # Color mapping based on year\n",
    "    palette='coolwarm',  # Using a color gradient for better visualization\n",
    "    diag_kind='kde',  # Kernel Density Estimate (KDE) for diagonal plots\n",
    "    corner=True  # Hides upper triangle to avoid redundancy\n",
    ")\n",
    "\n",
    "# Display the plot\n",
    "plt.show()\n"
   ]
  },
  {
   "cell_type": "markdown",
   "metadata": {},
   "source": [
    "Analyze how variables change in relation to each other over time\n",
    "\n",
    "- Higher CO₂ → Higher Global Temperatures (Recent years show increased CO₂ levels and rising temperatures).\n",
    "- Higher CO₂ → Higher Sea Levels (Warming causes ice melt and ocean expansion).\n",
    "- Higher CO₂ → Less Arctic Ice (Arctic ice area is shrinking as CO₂ levels rise).\n",
    "- Higher Temperatures → Rising Sea Levels (Ice melting and thermal expansion lead to sea level rise).\n",
    "- Higher Temperatures → Less Arctic Ice (Warmer climate accelerates Arctic ice loss).\n",
    "- Higher Sea Levels → Less Arctic Ice (Melting ice contributes to rising sea levels).\n",
    "\n",
    "Conclusion:\n",
    "Climate change is accelerating—CO₂ emissions drive warming, leading to ice loss and rising sea levels.\n"
   ]
  },
  {
   "cell_type": "markdown",
   "metadata": {},
   "source": [
    "Explore relationships among three or more variables"
   ]
  },
  {
   "cell_type": "markdown",
   "metadata": {},
   "source": [
    "1. Relationship Among Global Temperatures, CO₂ Concentration, and Sea Level Rise\n",
    "- Expectation: Higher CO₂ concentration leads to an increase in global temperatures, which further contributes to rising sea levels.\n",
    "- Visualization: 3D scatter plot with CO₂ concentration (X-axis), Global Temperature (Y-axis), and Sea Level Rise (Z-axis).\n"
   ]
  },
  {
   "cell_type": "markdown",
   "metadata": {},
   "source": [
    "2. Relationship Among Global Temperatures, CO₂ Concentration, and Arctic Ice Area\n",
    "- Expectation: Higher CO₂ levels contribute to global warming, causing a reduction in Arctic ice area.\n",
    "- Visualization: 3D scatter plot with CO₂ concentration (X-axis), Global Temperature (Y-axis), and Arctic Ice Area (Z-axis).\n"
   ]
  },
  {
   "cell_type": "markdown",
   "metadata": {},
   "source": [
    "3. Relationship Among CO₂ Concentration, Sea Level Rise, and Arctic Ice Area\n",
    "  Expectation:\n",
    "- Increasing CO₂ concentration leads to rising sea levels and melting Arctic ice.\n",
    "- Arctic ice area will show an inverse relationship with CO₂ concentration and sea level rise.\n",
    "  Visualization: 3D scatter plot with CO₂ concentration (X-axis), Sea Level Rise (Y-axis), and Arctic Ice Area (Z-axis).\n"
   ]
  },
  {
   "cell_type": "markdown",
   "metadata": {},
   "source": [
    "4. Relationship Among Global Temperatures, Sea Level Rise, and Arctic Ice Area\n",
    "  Expectation:\n",
    "- Rising global temperatures contribute to sea level rise.\n",
    "- Arctic ice area will decrease as temperatures rise.\n",
    "  Visualization: 3D scatter plot with Global Temperature (X-axis), Sea Level Rise (Y-axis), and Arctic Ice Area (Z-axis).\n"
   ]
  },
  {
   "cell_type": "code",
   "execution_count": null,
   "metadata": {},
   "outputs": [],
   "source": [
    "df_melted = df.melt(id_vars=['Year'], \n",
    "                     var_name='Climate Indicator', \n",
    "                     value_name='Value')\n",
    "\n",
    "sns.set_theme(style=\"whitegrid\")\n",
    "\n",
    "g = sns.FacetGrid(df_melted, col='Climwte Indicator', col_wrap=2, sharex=True, sharey=False, height=4, aspect=1.5)\n",
    "\n",
    "g.map(sns.lineplot, 'Year', 'Value', marker=\"o\", linewidth=1.5, alpha=0.7)\n",
    "\n",
    "g.set_titles(col_template=\"{col_name}\", size=14, weight='bold')\n",
    "\n",
    "for ax in g.axes.flat:\n",
    "    ax.set_xticks(ax.get_xticks())\n",
    "    ax.set_xticklabels(ax.get_xticklabels(), rotation=45, ha=\"right\")\n",
    "\n",
    "plt.tight_layout()\n",
    "plt.show()"
   ]
  },
  {
   "cell_type": "markdown",
   "metadata": {},
   "source": [
    "#### Animated Line Plot"
   ]
  },
  {
   "cell_type": "code",
   "execution_count": null,
   "metadata": {},
   "outputs": [],
   "source": [
    "# Animated Line Plot for Global Average Temperature over Time\n",
    "fig, ax = plt.subplots(figsize=(20, 12))\n",
    "\n",
    "def update(frame):\n",
    "    ax.clear()\n",
    "    sns.lineplot(x=df_grouped_by_year.index[:frame], y=df_grouped_by_year[\"Global Average Temperature (°C)\"].iloc[:frame], ax=ax, color='r')\n",
    "    ax.set_title(\"Global Temperature Over Time\")\n",
    "    ax.set_xlabel(\"Year\")\n",
    "    ax.set_ylabel(\"Temperature Anomaly (°C)\")\n",
    "\n",
    "# Create animation\n",
    "ani = FuncAnimation(fig, update, frames=len(df_grouped_by_year), interval=50)\n",
    "\n",
    "plt.close(fig)\n",
    "\n",
    "# Display animation in Jupyter Notebook\n",
    "HTML(ani.to_jshtml())\n"
   ]
  },
  {
   "cell_type": "code",
   "execution_count": null,
   "metadata": {},
   "outputs": [],
   "source": [
    "# Animated Line Plot for Co2 Concentration over Time\n",
    "fig, ax = plt.subplots(figsize=(20, 12))\n",
    "\n",
    "def update(frame):\n",
    "    ax.clear()\n",
    "    sns.lineplot(x=df_grouped_by_year.index[:frame], y=df_grouped_by_year[\"CO2 Concentration (ppm)\"].iloc[:frame], ax=ax, color='b')\n",
    "    ax.set_title(\"Co2 Concentration Over Time\")\n",
    "    ax.set_xlabel(\"Year\")\n",
    "    ax.set_ylabel(\"CO2 Concentration (ppm)\")\n",
    "\n",
    "# Create animation\n",
    "ani = FuncAnimation(fig, update, frames=len(df_grouped_by_year), interval=50)\n",
    "\n",
    "plt.close(fig)\n",
    "\n",
    "# Display animation in Jupyter Notebook\n",
    "HTML(ani.to_jshtml())"
   ]
  },
  {
   "cell_type": "code",
   "execution_count": null,
   "metadata": {},
   "outputs": [],
   "source": [
    "# Animated Line Plot for Sea Level Rise over Time\n",
    "fig, ax = plt.subplots(figsize=(20, 12))\n",
    "\n",
    "def update(frame):\n",
    "    ax.clear()\n",
    "    sns.lineplot(x=df_grouped_by_year.index[:frame], y=df_grouped_by_year[\"Sea Level Rise (mm)\"].iloc[:frame], ax=ax, color='g')\n",
    "    ax.set_title(\"Sea Level Rise Over Time\")\n",
    "    ax.set_xlabel(\"Year\")\n",
    "    ax.set_ylabel(\"Sea Level Rise (mm)\")\n",
    "\n",
    "# Create animation\n",
    "ani = FuncAnimation(fig, update, frames=len(df_grouped_by_year), interval=50)\n",
    "\n",
    "plt.close(fig)\n",
    "\n",
    "# Display animation in Jupyter Notebook\n",
    "HTML(ani.to_jshtml())"
   ]
  },
  {
   "cell_type": "code",
   "execution_count": null,
   "metadata": {},
   "outputs": [],
   "source": [
    "# Animated Line Plot for Arctic Ice Area over Time\n",
    "fig, ax = plt.subplots(figsize=(20, 12))\n",
    "\n",
    "def update(frame):\n",
    "    ax.clear()\n",
    "    sns.lineplot(x=df_grouped_by_year.index[:frame], y=df_grouped_by_year[\"Arctic Ice Area (million km²)\"].iloc[:frame], ax=ax, color='purple')\n",
    "    ax.set_title(\"Arctic Ice Area Over Time\")\n",
    "    ax.set_xlabel(\"Year\")\n",
    "    ax.set_ylabel(\"Arctic Ice Area (million km²)\")\n",
    "\n",
    "# Create animation\n",
    "ani = FuncAnimation(fig, update, frames=len(df_grouped_by_year), interval=50)\n",
    "\n",
    "plt.close(fig)\n",
    "\n",
    "# Display animation in Jupyter Notebook\n",
    "HTML(ani.to_jshtml())"
   ]
  },
  {
   "cell_type": "code",
   "execution_count": null,
   "metadata": {},
   "outputs": [],
   "source": [
    "# Animated line plots for all four climate variables using subplots\n",
    "# Create figure and axes\n",
    "fig, axes = plt.subplots(2, 2, figsize=(20, 12))\n",
    "ax1, ax2, ax3, ax4 = axes.flatten()\n",
    "\n",
    "# Function to update the animation\n",
    "def update(frame):\n",
    "    ax1.clear()\n",
    "    ax2.clear()\n",
    "    ax3.clear()\n",
    "    ax4.clear()\n",
    "    \n",
    "    sns.lineplot(x=df_grouped_by_year.index[:frame], y=df_grouped_by_year[\"Global Average Temperature (°C)\"].iloc[:frame], ax=ax1, color='r')\n",
    "    ax1.set_title(\"Global Temperature Over Time\")\n",
    "    ax1.set_xlabel(\"Year\")\n",
    "    ax1.set_ylabel(\"Global Average Temperature (°C)\")\n",
    "    \n",
    "    sns.lineplot(x=df_grouped_by_year.index[:frame], y=df_grouped_by_year[\"CO2 Concentration (ppm)\"].iloc[:frame], ax=ax2, color='b')\n",
    "    ax2.set_title(\"CO₂ Concentration Over Time\")\n",
    "    ax2.set_xlabel(\"Year\")\n",
    "    ax2.set_ylabel(\"CO₂ Concentration (ppm)\")\n",
    "    \n",
    "    sns.lineplot(x=df_grouped_by_year.index[:frame], y=df_grouped_by_year[\"Sea Level Rise (mm)\"].iloc[:frame], ax=ax3, color='g')\n",
    "    ax3.set_title(\"Sea Level Rise Over Time\")\n",
    "    ax3.set_xlabel(\"Year\")\n",
    "    ax3.set_ylabel(\"Sea Level Rise (mm)\")\n",
    "    \n",
    "    sns.lineplot(x=df_grouped_by_year.index[:frame], y=df_grouped_by_year[\"Arctic Ice Area (million km²)\"].iloc[:frame], ax=ax4, color='purple')\n",
    "    ax4.set_title(\"Arctic Ice Area Over Time\")\n",
    "    ax4.set_xlabel(\"Year\")\n",
    "    ax4.set_ylabel(\"Arctic Ice Area (million km²)\")\n",
    "    \n",
    "    plt.tight_layout()\n",
    "\n",
    "# Create animation\n",
    "ani = FuncAnimation(fig, update, frames=len(df_grouped_by_year), interval=50)\n",
    "\n",
    "plt.close(fig)\n",
    "\n",
    "# Display animation in Jupyter Notebook\n",
    "HTML(ani.to_jshtml())"
   ]
  },
  {
   "cell_type": "code",
   "execution_count": null,
   "metadata": {},
   "outputs": [],
   "source": [
    "# Normalize data function\n",
    "def normalize(series):\n",
    "    return (series - series.min()) / (series.max() - series.min())\n",
    "\n",
    "# Normalize the data\n",
    "df_grouped_by_year[\"N. Global Average Temperature (°C)\"] = normalize(df_grouped_by_year[\"Global Average Temperature (°C)\"])\n",
    "df_grouped_by_year[\"N. CO2 Concentration (ppm)\"] = normalize(df_grouped_by_year[\"CO2 Concentration (ppm)\"])\n",
    "df_grouped_by_year[\"N. Sea Level Rise (mm)\"] = normalize(df_grouped_by_year[\"Sea Level Rise (mm)\"])\n",
    "df_grouped_by_year[\"N. Arctic Ice Area (million km²)\"] = normalize(df_grouped_by_year[\"Arctic Ice Area (million km²)\"])\n",
    "\n",
    "df_grouped_by_year"
   ]
  },
  {
   "cell_type": "code",
   "execution_count": null,
   "metadata": {},
   "outputs": [],
   "source": [
    "# Multi-line animated time series plot\n",
    "fig, ax = plt.subplots(figsize=(20, 12))\n",
    "\n",
    "# Function to update the animation\n",
    "def update(frame):\n",
    "    ax.clear()\n",
    "    \n",
    "    line1, = ax.plot(df_grouped_by_year.index[:frame], \n",
    "                      df_grouped_by_year[\"N. Global Average Temperature (°C)\"].iloc[:frame], \n",
    "                      color='r', label=\"Normalized Global Average Temperature (°C)\")\n",
    "    \n",
    "    line2, = ax.plot(df_grouped_by_year.index[:frame], \n",
    "                      df_grouped_by_year[\"N. CO2 Concentration (ppm)\"].iloc[:frame], \n",
    "                      color='b', label=\"Normalized CO₂ Concentration (ppm)\")\n",
    "    \n",
    "    line3, = ax.plot(df_grouped_by_year.index[:frame], \n",
    "                      df_grouped_by_year[\"N. Sea Level Rise (mm)\"].iloc[:frame], \n",
    "                      color='g', label=\"Normalized Sea Level Rise (mm)\")\n",
    "    \n",
    "    line4, = ax.plot(df_grouped_by_year.index[:frame], \n",
    "                      df_grouped_by_year[\"N. Arctic Ice Area (million km²)\"].iloc[:frame], \n",
    "                      color='purple', label=\"Normalized Arctic Ice Area (million km²)\")\n",
    "\n",
    "    ax.set_title(\"Climate Change Indicators Over Time\")\n",
    "    ax.set_xlabel(\"Year\")\n",
    "\n",
    "    ax.legend([line1, line2, line3, line4], \n",
    "              [\"Normalized Global Average Temperature (°C)\", \n",
    "               \"Normalized CO₂ Concentration (ppm)\", \n",
    "               \"Normalized Sea Level Rise (mm)\", \n",
    "               \"Normalized Arctic Ice Area (million km²)\"],\n",
    "              loc=\"upper left\")\n",
    "    \n",
    "    plt.tight_layout()\n",
    "\n",
    "# Create animation\n",
    "ani = FuncAnimation(fig, update, frames=len(df_grouped_by_year), interval=50)\n",
    "\n",
    "plt.close(fig)\n",
    "\n",
    "# Display animation in Jupyter Notebook\n",
    "HTML(ani.to_jshtml())"
   ]
  },
  {
   "cell_type": "markdown",
   "metadata": {},
   "source": [
    "### 3D scattered plot for CO2 concentration vs Global average temperature over time"
   ]
  },
  {
   "cell_type": "code",
   "execution_count": null,
   "metadata": {},
   "outputs": [],
   "source": [
    "#3D scattered plot \n",
    "\n",
    "\n",
    "# Create the 3D plot\n",
    "fig = plt.figure(figsize=(8, 6))\n",
    "ax = fig.add_subplot(projection='3d')\n",
    "\n",
    "# Scatter plot in 3D\n",
    "ax.scatter(years, meanGlobaltemp, meanCo2_concentration, c=years, cmap='viridis', marker= 'o', edgecolors='k')\n",
    "\n",
    "# Labels and title\n",
    "ax.set_xlabel('Year')\n",
    "ax.set_ylabel('Global Avg Temp (°C)')\n",
    "ax.set_zlabel('CO2 Concentration (ppm)')\n",
    "ax.set_title('Global Temp Trends vs CO2 Concentration over Time- 3D scatter plot')\n",
    "\n",
    "# Show the plot\n",
    "plt.show()"
   ]
  }
 ],
 "metadata": {
  "kernelspec": {
   "display_name": "base",
   "language": "python",
   "name": "python3"
  },
  "language_info": {
   "codemirror_mode": {
    "name": "ipython",
    "version": 3
   },
   "file_extension": ".py",
   "mimetype": "text/x-python",
   "name": "python",
   "nbconvert_exporter": "python",
   "pygments_lexer": "ipython3",
   "version": "3.12.7"
  }
 },
 "nbformat": 4,
 "nbformat_minor": 2
}
