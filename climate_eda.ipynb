{
 "cells": [
  {
   "cell_type": "code",
   "execution_count": 2,
   "metadata": {},
   "outputs": [],
   "source": [
    "import pandas as pd"
   ]
  },
  {
   "cell_type": "code",
   "execution_count": 3,
   "metadata": {},
   "outputs": [
    {
     "data": {
      "text/html": [
       "<div>\n",
       "<style scoped>\n",
       "    .dataframe tbody tr th:only-of-type {\n",
       "        vertical-align: middle;\n",
       "    }\n",
       "\n",
       "    .dataframe tbody tr th {\n",
       "        vertical-align: top;\n",
       "    }\n",
       "\n",
       "    .dataframe thead th {\n",
       "        text-align: right;\n",
       "    }\n",
       "</style>\n",
       "<table border=\"1\" class=\"dataframe\">\n",
       "  <thead>\n",
       "    <tr style=\"text-align: right;\">\n",
       "      <th></th>\n",
       "      <th>Year</th>\n",
       "      <th>Global Average Temperature (°C)</th>\n",
       "      <th>CO2 Concentration (ppm)</th>\n",
       "      <th>Sea Level Rise (mm)</th>\n",
       "      <th>Arctic Ice Area (million km²)</th>\n",
       "    </tr>\n",
       "  </thead>\n",
       "  <tbody>\n",
       "    <tr>\n",
       "      <th>0</th>\n",
       "      <td>1948</td>\n",
       "      <td>13.17</td>\n",
       "      <td>397.04</td>\n",
       "      <td>116.25</td>\n",
       "      <td>5.97</td>\n",
       "    </tr>\n",
       "    <tr>\n",
       "      <th>1</th>\n",
       "      <td>1996</td>\n",
       "      <td>13.10</td>\n",
       "      <td>313.17</td>\n",
       "      <td>277.92</td>\n",
       "      <td>9.66</td>\n",
       "    </tr>\n",
       "    <tr>\n",
       "      <th>2</th>\n",
       "      <td>2015</td>\n",
       "      <td>14.67</td>\n",
       "      <td>311.95</td>\n",
       "      <td>290.32</td>\n",
       "      <td>8.40</td>\n",
       "    </tr>\n",
       "    <tr>\n",
       "      <th>3</th>\n",
       "      <td>1966</td>\n",
       "      <td>14.79</td>\n",
       "      <td>304.25</td>\n",
       "      <td>189.71</td>\n",
       "      <td>11.83</td>\n",
       "    </tr>\n",
       "    <tr>\n",
       "      <th>4</th>\n",
       "      <td>1992</td>\n",
       "      <td>13.15</td>\n",
       "      <td>354.52</td>\n",
       "      <td>14.84</td>\n",
       "      <td>11.23</td>\n",
       "    </tr>\n",
       "  </tbody>\n",
       "</table>\n",
       "</div>"
      ],
      "text/plain": [
       "   Year  Global Average Temperature (°C)  CO2 Concentration (ppm)  \\\n",
       "0  1948                            13.17                   397.04   \n",
       "1  1996                            13.10                   313.17   \n",
       "2  2015                            14.67                   311.95   \n",
       "3  1966                            14.79                   304.25   \n",
       "4  1992                            13.15                   354.52   \n",
       "\n",
       "   Sea Level Rise (mm)  Arctic Ice Area (million km²)  \n",
       "0               116.25                           5.97  \n",
       "1               277.92                           9.66  \n",
       "2               290.32                           8.40  \n",
       "3               189.71                          11.83  \n",
       "4                14.84                          11.23  "
      ]
     },
     "execution_count": 3,
     "metadata": {},
     "output_type": "execute_result"
    }
   ],
   "source": [
    "df = pd.read_csv('data/Climate_Change_Indicators.csv')\n",
    "df.head(5)"
   ]
  },
  {
   "cell_type": "code",
   "execution_count": 4,
   "metadata": {},
   "outputs": [
    {
     "name": "stdout",
     "output_type": "stream",
     "text": [
      "Missing values in each column:\n",
      " Year                               0\n",
      "Global Average Temperature (°C)    0\n",
      "CO2 Concentration (ppm)            0\n",
      "Sea Level Rise (mm)                0\n",
      "Arctic Ice Area (million km²)      0\n",
      "dtype: int64\n"
     ]
    }
   ],
   "source": [
    "# Check for missing values\n",
    "missing_values = df.isnull().sum()\n",
    "print(\"Missing values in each column:\\n\", missing_values)"
   ]
  },
  {
   "cell_type": "markdown",
   "metadata": {},
   "source": [
    "###### The line of code `missing_values = df.isnull().sum()` is used to identify and count the number of missing (null) values in each column of a pandas DataFrame. \n",
    "###### `df.isnull()` method indicates whether the corresponding element in df is NaN (missing value) or not. True indicates a missing value, and False indicates a non-missing value. `.sum()` method sums up the True values along each column. Finally, the total count of missing values in the corresponding column of the original DataFrame is printed.\n",
    "###### `missing_values` is a `pandas Series` where the index represents the column names and the values represent the count of missing values in each column.\n",
    "\n",
    "###### Since, there are no missing values in our original data, there is no need to handle/clean missing values."
   ]
  },
  {
   "cell_type": "code",
   "execution_count": 5,
   "metadata": {},
   "outputs": [],
   "source": [
    "# Check for inconsistent values\n",
    "\n",
    "# Defining the expected ranges or criteria for column 'Year'\n",
    "criteria = {\n",
    "    'Year': (1900, 2023)\n",
    "}\n",
    "\n",
    "# Function to check for inconsistent values\n",
    "def check_inconsistent_values(df, criteria):\n",
    "    inconsistent_values = {}\n",
    "    for column, (min_val, max_val) in criteria.items():\n",
    "        inconsistent_values[column] = df[(df[column] < min_val) | (df[column] > max_val)]\n",
    "    return inconsistent_values"
   ]
  },
  {
   "cell_type": "code",
   "execution_count": 6,
   "metadata": {},
   "outputs": [
    {
     "name": "stdout",
     "output_type": "stream",
     "text": [
      "No inconsistent values in 'Year' column.\n"
     ]
    }
   ],
   "source": [
    "# Check for inconsistent values\n",
    "inconsistent_values = check_inconsistent_values(df, criteria)\n",
    "\n",
    "# Print inconsistent values for each column\n",
    "for column, values in inconsistent_values.items():\n",
    "    if not values.empty:\n",
    "        print(f\"Inconsistent values in '{column}' column:\\n\", values)\n",
    "    else:\n",
    "        print(f\"No inconsistent values in '{column}' column.\")"
   ]
  },
  {
   "cell_type": "markdown",
   "metadata": {},
   "source": [
    "###### To check the inconsistent value for the column 'Year', first we define the expected criteria `criteria = { 'Year': (1900, 2023) }`.\n",
    "###### Then, we define a function to check for inconsistent values `check_inconsistent_values` that takes two arguments: a DataFrame `df` and a dictionary `criteria`. It initializes an empty dictionary `inconsistent_values` to store the inconsistent values for each column. It iterates over each column and its corresponding range `(min_val, max_val)` in the criteria dictionary. For each column, it filters the DataFrame to find rows where the column values are either `less than min_val` or `greater than max_val`. These inconsistent rows are stored in the `inconsistent_values` dictionary under the corresponding column name.\n",
    "###### Lastly, we print inconsistent value.\n",
    "###### If we know the criterias for other columns, we can simply check for inconsistent values just by adding expected range/criteria in the dictionary `criteria`."
   ]
  },
  {
   "cell_type": "code",
   "execution_count": 8,
   "metadata": {},
   "outputs": [
    {
     "name": "stdout",
     "output_type": "stream",
     "text": [
      "               Year  Global Average Temperature (°C)  CO2 Concentration (ppm)  \\\n",
      "count  1.048576e+06                     1.048576e+06             1.048576e+06   \n",
      "mean   1.961505e+03                     1.449954e+01             3.500280e+02   \n",
      "std    3.579736e+01                     8.661005e-01             4.042409e+01   \n",
      "min    1.900000e+03                     1.300000e+01             2.800000e+02   \n",
      "25%    1.930000e+03                     1.375000e+01             3.149900e+02   \n",
      "50%    1.962000e+03                     1.450000e+01             3.500700e+02   \n",
      "75%    1.993000e+03                     1.525000e+01             3.850200e+02   \n",
      "max    2.023000e+03                     1.600000e+01             4.200000e+02   \n",
      "\n",
      "       Sea Level Rise (mm)  Arctic Ice Area (million km²)  \n",
      "count         1.048576e+06                   1.048576e+06  \n",
      "mean          1.499900e+02                   9.000896e+00  \n",
      "std           8.657659e+01                   3.462551e+00  \n",
      "min           0.000000e+00                   3.000000e+00  \n",
      "25%           7.497000e+01                   6.000000e+00  \n",
      "50%           1.500200e+02                   9.000000e+00  \n",
      "75%           2.249300e+02                   1.200000e+01  \n",
      "max           3.000000e+02                   1.500000e+01  \n"
     ]
    }
   ],
   "source": [
    "summary_statistics = df.describe()\n",
    "print(summary_statistics)"
   ]
  },
  {
   "cell_type": "code",
   "execution_count": 17,
   "metadata": {},
   "outputs": [
    {
     "data": {
      "text/html": [
       "<div>\n",
       "<style scoped>\n",
       "    .dataframe tbody tr th:only-of-type {\n",
       "        vertical-align: middle;\n",
       "    }\n",
       "\n",
       "    .dataframe tbody tr th {\n",
       "        vertical-align: top;\n",
       "    }\n",
       "\n",
       "    .dataframe thead th {\n",
       "        text-align: right;\n",
       "    }\n",
       "</style>\n",
       "<table border=\"1\" class=\"dataframe\">\n",
       "  <thead>\n",
       "    <tr style=\"text-align: right;\">\n",
       "      <th></th>\n",
       "      <th>Global Average Temperature (°C)</th>\n",
       "      <th>CO2 Concentration (ppm)</th>\n",
       "      <th>Sea Level Rise (mm)</th>\n",
       "      <th>Arctic Ice Area (million km²)</th>\n",
       "    </tr>\n",
       "    <tr>\n",
       "      <th>Year</th>\n",
       "      <th></th>\n",
       "      <th></th>\n",
       "      <th></th>\n",
       "      <th></th>\n",
       "    </tr>\n",
       "  </thead>\n",
       "  <tbody>\n",
       "    <tr>\n",
       "      <th>1900</th>\n",
       "      <td>14.506663</td>\n",
       "      <td>350.373405</td>\n",
       "      <td>150.408288</td>\n",
       "      <td>8.978659</td>\n",
       "    </tr>\n",
       "    <tr>\n",
       "      <th>1901</th>\n",
       "      <td>14.485343</td>\n",
       "      <td>349.757140</td>\n",
       "      <td>150.548828</td>\n",
       "      <td>8.947272</td>\n",
       "    </tr>\n",
       "    <tr>\n",
       "      <th>1902</th>\n",
       "      <td>14.476262</td>\n",
       "      <td>349.299686</td>\n",
       "      <td>152.174821</td>\n",
       "      <td>9.035554</td>\n",
       "    </tr>\n",
       "    <tr>\n",
       "      <th>1903</th>\n",
       "      <td>14.492360</td>\n",
       "      <td>349.644375</td>\n",
       "      <td>150.138338</td>\n",
       "      <td>9.056501</td>\n",
       "    </tr>\n",
       "    <tr>\n",
       "      <th>1904</th>\n",
       "      <td>14.494241</td>\n",
       "      <td>349.537032</td>\n",
       "      <td>150.667318</td>\n",
       "      <td>8.990691</td>\n",
       "    </tr>\n",
       "    <tr>\n",
       "      <th>...</th>\n",
       "      <td>...</td>\n",
       "      <td>...</td>\n",
       "      <td>...</td>\n",
       "      <td>...</td>\n",
       "    </tr>\n",
       "    <tr>\n",
       "      <th>2019</th>\n",
       "      <td>14.500105</td>\n",
       "      <td>348.642249</td>\n",
       "      <td>151.020415</td>\n",
       "      <td>9.014690</td>\n",
       "    </tr>\n",
       "    <tr>\n",
       "      <th>2020</th>\n",
       "      <td>14.496937</td>\n",
       "      <td>350.021731</td>\n",
       "      <td>150.219741</td>\n",
       "      <td>9.054254</td>\n",
       "    </tr>\n",
       "    <tr>\n",
       "      <th>2021</th>\n",
       "      <td>14.501424</td>\n",
       "      <td>350.150302</td>\n",
       "      <td>150.187456</td>\n",
       "      <td>8.968700</td>\n",
       "    </tr>\n",
       "    <tr>\n",
       "      <th>2022</th>\n",
       "      <td>14.495233</td>\n",
       "      <td>350.493023</td>\n",
       "      <td>148.857646</td>\n",
       "      <td>8.942012</td>\n",
       "    </tr>\n",
       "    <tr>\n",
       "      <th>2023</th>\n",
       "      <td>14.474559</td>\n",
       "      <td>351.003294</td>\n",
       "      <td>148.355918</td>\n",
       "      <td>8.984517</td>\n",
       "    </tr>\n",
       "  </tbody>\n",
       "</table>\n",
       "<p>124 rows × 4 columns</p>\n",
       "</div>"
      ],
      "text/plain": [
       "      Global Average Temperature (°C)  CO2 Concentration (ppm)  \\\n",
       "Year                                                             \n",
       "1900                        14.506663               350.373405   \n",
       "1901                        14.485343               349.757140   \n",
       "1902                        14.476262               349.299686   \n",
       "1903                        14.492360               349.644375   \n",
       "1904                        14.494241               349.537032   \n",
       "...                               ...                      ...   \n",
       "2019                        14.500105               348.642249   \n",
       "2020                        14.496937               350.021731   \n",
       "2021                        14.501424               350.150302   \n",
       "2022                        14.495233               350.493023   \n",
       "2023                        14.474559               351.003294   \n",
       "\n",
       "      Sea Level Rise (mm)  Arctic Ice Area (million km²)  \n",
       "Year                                                      \n",
       "1900           150.408288                       8.978659  \n",
       "1901           150.548828                       8.947272  \n",
       "1902           152.174821                       9.035554  \n",
       "1903           150.138338                       9.056501  \n",
       "1904           150.667318                       8.990691  \n",
       "...                   ...                            ...  \n",
       "2019           151.020415                       9.014690  \n",
       "2020           150.219741                       9.054254  \n",
       "2021           150.187456                       8.968700  \n",
       "2022           148.857646                       8.942012  \n",
       "2023           148.355918                       8.984517  \n",
       "\n",
       "[124 rows x 4 columns]"
      ]
     },
     "execution_count": 17,
     "metadata": {},
     "output_type": "execute_result"
    }
   ],
   "source": [
    "# Aggregate the data by year, computing the average for each climate variable\n",
    "\n",
    "df_grouped_by_year = df.groupby(\"Year\").mean()\n",
    "df_grouped_by_year"
   ]
  },
  {
   "cell_type": "code",
   "execution_count": null,
   "metadata": {},
   "outputs": [],
   "source": []
  },
  {
   "cell_type": "code",
   "execution_count": null,
   "metadata": {},
   "outputs": [],
   "source": []
  }
 ],
 "metadata": {
  "kernelspec": {
   "display_name": "Python 3",
   "language": "python",
   "name": "python3"
  },
  "language_info": {
   "codemirror_mode": {
    "name": "ipython",
    "version": 3
   },
   "file_extension": ".py",
   "mimetype": "text/x-python",
   "name": "python",
   "nbconvert_exporter": "python",
   "pygments_lexer": "ipython3",
   "version": "3.12.4"
  }
 },
 "nbformat": 4,
 "nbformat_minor": 2
}
