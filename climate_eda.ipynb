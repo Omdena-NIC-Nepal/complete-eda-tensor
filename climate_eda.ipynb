{
 "cells": [
  {
   "cell_type": "code",
   "execution_count": null,
   "metadata": {},
   "outputs": [],
   "source": [
    "import pandas as pd # type: ignore\n",
    "import matplotlib.pyplot as plt # type: ignore\n",
    "import seaborn as sns # type: ignore"
   ]
  },
  {
   "cell_type": "code",
   "execution_count": null,
   "metadata": {},
   "outputs": [],
   "source": [
    "df = pd.read_csv('data/Climate_Change_Indicators.csv')\n",
    "df.head(5)"
   ]
  },
  {
   "cell_type": "code",
   "execution_count": null,
   "metadata": {},
   "outputs": [],
   "source": [
    "# Check for missing values\n",
    "missing_values = df.isnull().sum()\n",
    "print(\"Missing values in each column:\\n\", missing_values)"
   ]
  },
  {
   "cell_type": "markdown",
   "metadata": {},
   "source": [
    "###### The line of code `missing_values = df.isnull().sum()` is used to identify and count the number of missing (null) values in each column of a pandas DataFrame. \n",
    "###### `df.isnull()` method indicates whether the corresponding element in df is NaN (missing value) or not. True indicates a missing value, and False indicates a non-missing value. `.sum()` method sums up the True values along each column. Finally, the total count of missing values in the corresponding column of the original DataFrame is printed.\n",
    "###### `missing_values` is a `pandas Series` where the index represents the column names and the values represent the count of missing values in each column.\n",
    "\n",
    "###### Since, there are no missing values in our original data, there is no need to handle/clean missing values."
   ]
  },
  {
   "cell_type": "code",
   "execution_count": null,
   "metadata": {},
   "outputs": [],
   "source": [
    "# Check for inconsistent values\n",
    "\n",
    "# Defining the expected ranges or criteria for column 'Year'\n",
    "criteria = {\n",
    "    'Year': (1900, 2023)\n",
    "}\n",
    "\n",
    "# Function to check for inconsistent values\n",
    "def check_inconsistent_values(df, criteria):\n",
    "    inconsistent_values = {}\n",
    "    for column, (min_val, max_val) in criteria.items():\n",
    "        inconsistent_values[column] = df[(df[column] < min_val) | (df[column] > max_val)]\n",
    "    return inconsistent_values"
   ]
  },
  {
   "cell_type": "code",
   "execution_count": null,
   "metadata": {},
   "outputs": [],
   "source": [
    "# Check for inconsistent values\n",
    "inconsistent_values = check_inconsistent_values(df, criteria)\n",
    "\n",
    "# Print inconsistent values for each column\n",
    "for column, values in inconsistent_values.items():\n",
    "    if not values.empty:\n",
    "        print(f\"Inconsistent values in '{column}' column:\\n\", values)\n",
    "    else:\n",
    "        print(f\"No inconsistent values in '{column}' column.\")"
   ]
  },
  {
   "cell_type": "markdown",
   "metadata": {},
   "source": [
    "###### In this code, we have calculated descriptive statistics (Mean, Median, Range, Standard Deviation, Minimum and Maximum) for Arctic Ice Area (million km²) and rounded them to two decimal values."
   ]
  },
  {
   "cell_type": "code",
   "execution_count": null,
   "metadata": {},
   "outputs": [],
   "source": [
    "summary_statistics = df.describe()\n",
    "print(summary_statistics)"
   ]
  },
  {
   "cell_type": "code",
   "execution_count": null,
   "metadata": {},
   "outputs": [],
   "source": [
    "# Aggregate the data by year, computing the average for each climate variable\n",
    "\n",
    "df_grouped_by_year = df.groupby(\"Year\").mean()\n",
    "df_grouped_by_year"
   ]
  },
  {
   "cell_type": "markdown",
   "metadata": {},
   "source": [
    "Documentation -Data Preparation"
   ]
  },
  {
   "cell_type": "markdown",
   "metadata": {},
   "source": [
    "1. Load the Dataset:\n",
    "- The dataset Climate_Change_Indicators.csv is loaded into a Pandas DataFrame using the following command:\n",
    "df = pd.read_csv('data/Climate_Change_Indicators.csv')\n",
    "df.head(5)\n",
    "\n",
    "This reads the CSV file and displays the first five rows for a quick preview.\n",
    "\n",
    "\n",
    "\n",
    "2. Check for Missing Values:\n",
    "- To ensure data quality, we check for missing values in each column:\n",
    "\n",
    "missing_values = df.isnull().sum()\n",
    "print(\"Missing values in each column:\\n\", missing_values)\n",
    "\n",
    "The .isnull() method identifies missing values (NaN).\n",
    ".sum() counts the number of missing values in each column.\n",
    "The output confirms that there are no missing values in the dataset, so no cleaning is required.\n",
    "\n",
    "3. Check for Inconsistencies\n",
    "- Before proceeding with analysis, the dataset is checked for inconsistencies like incorrect data types, duplicate records, and anomalies. If necessary, corrections are applied.\n",
    "\n",
    "\n",
    "4. Aggregate Data by Year\n",
    "- To analyze trends over time, the dataset is grouped by year, and the average of each variable is calculated:\n",
    "\n",
    "df_grouped_by_year = df.groupby(\"Year\").mean()\n",
    "df_grouped_by_year.head()\n",
    "- This groups the dataset by Year and calculates the mean of all numerical variables.\n",
    "\n",
    "Conclusion:\n",
    "- The data is successfully loaded.\n",
    "- No missing values were found.\n",
    "- The Year column was verified for inconsistencies, ensuring only values between 1980 and 2023 exist.\n",
    "- The data was aggregated by year to prepare for further analysis.\n",
    "\n"
   ]
  },
  {
   "cell_type": "markdown",
   "metadata": {},
   "source": [
    "###Calculate descriptive statistics (mean, median, range, std deviation, etc.) for Global Temperature and CO2 Concentration."
   ]
  },
  {
   "cell_type": "code",
   "execution_count": null,
   "metadata": {},
   "outputs": [],
   "source": [
    "# Descripitve statistics for Global Temperature\n",
    "\n",
    "globalTemperature_col = df['Global Average Temperature (°C)']\n",
    "\n",
    "globalTemperature_stats = {\n",
    "    \n",
    "        'Mean':     globalTemperature_col.mean(),\n",
    "        'Median':   globalTemperature_col.median(),\n",
    "        'Minimum':  globalTemperature_col.min(),\n",
    "        'Maximum':  globalTemperature_col.max(),\n",
    "        'Range':   globalTemperature_col.max() - globalTemperature_col.min(),\n",
    "        'Std_dev':   globalTemperature_col.std()\n",
    "    \n",
    "}\n",
    "globalTemperature_stats"
   ]
  },
  {
   "cell_type": "code",
   "execution_count": null,
   "metadata": {},
   "outputs": [],
   "source": [
    "# Descripitve statistics for CO2 Concentration\n",
    "\n",
    "\n",
    "co2_concentration_col = df['CO2 Concentration (ppm)']\n",
    "\n",
    "co2_concentration_stats = {\n",
    "    \n",
    "        'Mean':     co2_concentration_col.mean(),\n",
    "        'Median':   co2_concentration_col.median(),\n",
    "        'Minimum':  co2_concentration_col.min(),\n",
    "        'Maximum':  co2_concentration_col.max(),\n",
    "        'Range':   co2_concentration_col.max() - co2_concentration_col.min(),\n",
    "        'Std_dev':   co2_concentration_col.std()\n",
    "    \n",
    "}\n",
    "co2_concentration_stats"
   ]
  },
  {
   "cell_type": "code",
   "execution_count": null,
   "metadata": {},
   "outputs": [],
   "source": [
    "# Calculate descriptive statistics for 'Sea Level Rise (mm)'\n",
    "sea_level_rise_col = df['Sea Level Rise (mm)']\n",
    "\n",
    "sea_level_rise_stats = {\n",
    "    'Statistics': ['Mean', 'Median', 'Range', 'Standard Deviation', 'Minimum', 'Maximum'],\n",
    "    'Value': [\n",
    "        round(sea_level_rise_col.mean(), 2),\n",
    "        round(sea_level_rise_col.median(), 2),\n",
    "        round(sea_level_rise_col.max() - sea_level_rise_col.min(), 2),\n",
    "        round(sea_level_rise_col.std(), 2),\n",
    "        round(sea_level_rise_col.min(), 2),\n",
    "        round(sea_level_rise_col.max(), 2)\n",
    "    ]\n",
    "}"
   ]
  },
  {
   "cell_type": "code",
   "execution_count": null,
   "metadata": {},
   "outputs": [],
   "source": [
    "sea_level_rise_stats_df = pd.DataFrame(sea_level_rise_stats)\n",
    "sea_level_rise_stats_df"
   ]
  },
  {
   "cell_type": "markdown",
   "metadata": {},
   "source": [
    "###### In this code, we have calculated descriptive statistics (Mean, Median, Range, Standard Deviation, Minimum and Maximum) for Sea Level Rise (mm) and rounded them to two decimal values."
   ]
  },
  {
   "cell_type": "code",
   "execution_count": null,
   "metadata": {},
   "outputs": [],
   "source": [
    "# Calculate descriptive statistics for 'Arctic Ice Area (million km²)'\n",
    "arctic_ice_area_col = df['Arctic Ice Area (million km²)']\n",
    "\n",
    "arctic_ice_area_stats = {\n",
    "    'Statistics': ['Mean', 'Median', 'Range', 'Standard Deviation', 'Minimum', 'Maximum'],\n",
    "    'Value': [\n",
    "        round(arctic_ice_area_col.mean(), 2),\n",
    "        round(arctic_ice_area_col.median(), 2),\n",
    "        round(arctic_ice_area_col.max() - arctic_ice_area_col.min(), 2),\n",
    "        round(arctic_ice_area_col.std(), 2),\n",
    "        round(arctic_ice_area_col.min(), 2),\n",
    "        round(arctic_ice_area_col.max(), 2)\n",
    "    ]\n",
    "}"
   ]
  },
  {
   "cell_type": "code",
   "execution_count": null,
   "metadata": {},
   "outputs": [],
   "source": [
    "arctic_ice_area_stats_df = pd.DataFrame(arctic_ice_area_stats)\n",
    "arctic_ice_area_stats_df"
   ]
  },
  {
   "cell_type": "markdown",
   "metadata": {},
   "source": [
    "###### In this code, we have calculated descriptive statistics (Mean, Median, Range, Standard Deviation, Minimum and Maximum) for Arctic Ice Area (million km²) and rounded them to two decimal values."
   ]
  },
  {
   "cell_type": "code",
   "execution_count": null,
   "metadata": {},
   "outputs": [],
   "source": [
    "#creating histogarm and boxplots (Global Average Temperature (°C) and CO2 Concentration (ppm))\n",
    "\n",
    "#Histogarm for Global Average Temperature (°C)\n",
    "plt.Figure(figsize=(10, 6))\n",
    "plt.hist(df_grouped_by_year['Global Average Temperature (°C)'], bins=20, color='blue', alpha=0.7)\n",
    "plt.title('Distribution of Global Average Temperature')\n",
    "plt.xlabel('Temperature (°C)')\n",
    "plt.ylabel('Frequency') # ---> frequency of the temperature means like specific range ma kati choti vayo tw\n",
    "plt.show()\n"
   ]
  },
  {
   "cell_type": "code",
   "execution_count": null,
   "metadata": {},
   "outputs": [],
   "source": [
    "#boxplot for Global Average Temperature (°C)\n",
    "plt.Figure(figsize=(10, 6))\n",
    "sns.boxplot(df_grouped_by_year['Global Average Temperature (°C)'])\n",
    "plt.title('Boxplot of Global Average Temperature')\n",
    "plt.xlabel('Temperature (°C)')\n",
    "plt.show()"
   ]
  },
  {
   "cell_type": "code",
   "execution_count": null,
   "metadata": {},
   "outputs": [],
   "source": [
    "#Histogarm for CO2 Concentration (ppm)\n",
    "plt.Figure(figsize=(10, 6))\n",
    "plt.hist(df_grouped_by_year['CO2 Concentration (ppm)'], bins=20, color='red', alpha=0.7)\n",
    "plt.title('Distribution of CO2 Concentration (ppm)')\n",
    "plt.xlabel('CO2 Concentration (ppm)')\n",
    "plt.ylabel('Frequency')\n",
    "plt.show()"
   ]
  },
  {
   "cell_type": "code",
   "execution_count": null,
   "metadata": {},
   "outputs": [],
   "source": [
    "#boxplot for CO2 Concentration (ppm)\n",
    "plt.Figure(figsize=(10, 6))\n",
    "sns.boxplot(df_grouped_by_year['CO2 Concentration (ppm)'],color='red')\n",
    "plt.title('Boxplot of CO2 Concentration (ppm)')\n",
    "plt.xlabel('CO2 Concentration (ppm)')\n",
    "plt.show()"
   ]
  },
  {
   "cell_type": "code",
   "execution_count": null,
   "metadata": {},
   "outputs": [],
   "source": []
  }
 ],
 "metadata": {
  "kernelspec": {
   "display_name": "base",
   "language": "python",
   "name": "python3"
  },
  "language_info": {
   "codemirror_mode": {
    "name": "ipython",
    "version": 3
   },
   "file_extension": ".py",
   "mimetype": "text/x-python",
   "name": "python",
   "nbconvert_exporter": "python",
   "pygments_lexer": "ipython3",
   "version": "3.12.7"
  }
 },
 "nbformat": 4,
 "nbformat_minor": 2
}
